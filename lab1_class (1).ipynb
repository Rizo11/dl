{
 "cells": [
  {
   "cell_type": "markdown",
   "metadata": {},
   "source": [
    "# Practical machine learning and deep learning. Lab 1\n",
    "## Introduction \n",
    "\n",
    "Labs will be conducted with use of [Kaggle](https://www.kaggle.com). \n",
    "\n",
    "The aim of today's lab is to find out how the next labs will be held and recap ML workflow.\n",
    "\n",
    "You're asked to predict final grades of students by treir attendance, midterm and assignments scores. The data are real anonymized grades from one of the Innopolis course, but also contain some fictional 'students'.  \n",
    "\n",
    "## [Сompetition](https://www.kaggle.com/t/6c8eb8f31b6b47d5ac647816b21b321a)\n",
    "The competition costs 2 points max. To earn them, you have to beat a baseline score. However, if the trained model predicts some results under the baseline, you're guaranteed one point. This rule will work for the further labs. The baseline score can be found on Kaggle Leaderboard page.\n",
    "\n",
    "Evaluation metric for this competition is R^2."
   ]
  },
  {
   "cell_type": "markdown",
   "metadata": {},
   "source": [
    "## Task\n",
    "Today's task is to make a submission to a [competition](https://www.kaggle.com/t/6c8eb8f31b6b47d5ac647816b21b321a). \n",
    "\n",
    "To do so you will need: \n",
    "- Obtain data from competition \n",
    "- Create a Jupyter notebook which will produce a file for submission\n",
    "- Submit it to the competition"
   ]
  },
  {
   "cell_type": "markdown",
   "metadata": {},
   "source": [
    "### Data\n",
    "\n",
    "Data contains `train` and `test` splits. Your goal is to train any appropriate ML model on `train` split and run inference on `test` split."
   ]
  },
  {
   "cell_type": "code",
   "execution_count": 272,
   "metadata": {
    "_cell_guid": "b1076dfc-b9ad-4769-8c92-a6c4dae69d19",
    "_uuid": "8f2839f25d086af736a60e9eeb907d3b93b6e0e5",
    "execution": {
     "iopub.execute_input": "2023-08-24T10:30:50.197503Z",
     "iopub.status.busy": "2023-08-24T10:30:50.197169Z",
     "iopub.status.idle": "2023-08-24T10:30:50.206615Z",
     "shell.execute_reply": "2023-08-24T10:30:50.205233Z",
     "shell.execute_reply.started": "2023-08-24T10:30:50.197480Z"
    }
   },
   "outputs": [],
   "source": [
    "import pandas as pd\n",
    "import numpy as np\n",
    "import sklearn\n",
    "import warnings\n",
    "warnings.filterwarnings('ignore')"
   ]
  },
  {
   "cell_type": "code",
   "execution_count": 273,
   "metadata": {
    "execution": {
     "iopub.execute_input": "2023-08-24T10:30:50.213378Z",
     "iopub.status.busy": "2023-08-24T10:30:50.213069Z",
     "iopub.status.idle": "2023-08-24T10:30:50.235074Z",
     "shell.execute_reply": "2023-08-24T10:30:50.233716Z",
     "shell.execute_reply.started": "2023-08-24T10:30:50.213330Z"
    }
   },
   "outputs": [
    {
     "data": {
      "text/html": [
       "<div>\n",
       "<style scoped>\n",
       "    .dataframe tbody tr th:only-of-type {\n",
       "        vertical-align: middle;\n",
       "    }\n",
       "\n",
       "    .dataframe tbody tr th {\n",
       "        vertical-align: top;\n",
       "    }\n",
       "\n",
       "    .dataframe thead th {\n",
       "        text-align: right;\n",
       "    }\n",
       "</style>\n",
       "<table border=\"1\" class=\"dataframe\">\n",
       "  <thead>\n",
       "    <tr style=\"text-align: right;\">\n",
       "      <th></th>\n",
       "      <th>Course Grade (Real)</th>\n",
       "      <th>Assignment: In-class participation</th>\n",
       "      <th>Assignment: Assignment 1</th>\n",
       "      <th>Assignment: Midterm</th>\n",
       "    </tr>\n",
       "  </thead>\n",
       "  <tbody>\n",
       "    <tr>\n",
       "      <th>0</th>\n",
       "      <td>100</td>\n",
       "      <td>5</td>\n",
       "      <td>100</td>\n",
       "      <td>26</td>\n",
       "    </tr>\n",
       "    <tr>\n",
       "      <th>1</th>\n",
       "      <td>73</td>\n",
       "      <td>1.25</td>\n",
       "      <td>98</td>\n",
       "      <td>12</td>\n",
       "    </tr>\n",
       "    <tr>\n",
       "      <th>2</th>\n",
       "      <td>78</td>\n",
       "      <td>-</td>\n",
       "      <td>96</td>\n",
       "      <td>14</td>\n",
       "    </tr>\n",
       "    <tr>\n",
       "      <th>3</th>\n",
       "      <td>100</td>\n",
       "      <td>0</td>\n",
       "      <td>100</td>\n",
       "      <td>20</td>\n",
       "    </tr>\n",
       "    <tr>\n",
       "      <th>4</th>\n",
       "      <td>70</td>\n",
       "      <td>0</td>\n",
       "      <td>84</td>\n",
       "      <td>26</td>\n",
       "    </tr>\n",
       "  </tbody>\n",
       "</table>\n",
       "</div>"
      ],
      "text/plain": [
       "   Course Grade (Real) Assignment: In-class participation  \\\n",
       "0                  100                                  5   \n",
       "1                   73                               1.25   \n",
       "2                   78                                  -   \n",
       "3                  100                                  0   \n",
       "4                   70                                  0   \n",
       "\n",
       "  Assignment: Assignment 1  Assignment: Midterm  \n",
       "0                      100                   26  \n",
       "1                       98                   12  \n",
       "2                       96                   14  \n",
       "3                      100                   20  \n",
       "4                       84                   26  "
      ]
     },
     "execution_count": 273,
     "metadata": {},
     "output_type": "execute_result"
    }
   ],
   "source": [
    "# train_data = pd.read_csv('/kaggle/input/pmldl-week-1-test-competition/train.csv',sep=';')\n",
    "train_data = pd.read_csv('/home/rizo/inno/dl/train.csv',sep=';')\n",
    "\n",
    "train_data.head()"
   ]
  },
  {
   "cell_type": "markdown",
   "metadata": {},
   "source": [
    "### Preprocessing\n",
    "\n",
    "Please note that all the features have their own scales. Also some of them have missing values. Thus, you should apply Scaler and Imputer on the features and Scaler on labels."
   ]
  },
  {
   "cell_type": "code",
   "execution_count": 274,
   "metadata": {},
   "outputs": [],
   "source": [
    "# remove '-'\n",
    "train_data = train_data.replace(['', '-', ' '], np.NaN)"
   ]
  },
  {
   "cell_type": "code",
   "execution_count": 275,
   "metadata": {},
   "outputs": [],
   "source": [
    "train_data['Assignment: In-class participation'] = pd.to_numeric(train_data['Assignment: In-class participation'],errors = 'coerce')\n",
    "train_data['Assignment: Assignment 1'] = pd.to_numeric(train_data['Assignment: Assignment 1'],errors = 'coerce')\n"
   ]
  },
  {
   "cell_type": "code",
   "execution_count": 276,
   "metadata": {},
   "outputs": [],
   "source": [
    "labels = train_data[['Course Grade (Real)']]\n",
    "\n",
    "# Create another DataFrame for the rest of the columns\n",
    "features = train_data.drop(columns=['Course Grade (Real)'])"
   ]
  },
  {
   "cell_type": "markdown",
   "metadata": {},
   "source": [
    "### Imputing & Scaling"
   ]
  },
  {
   "cell_type": "code",
   "execution_count": 277,
   "metadata": {},
   "outputs": [],
   "source": [
    "from sklearn.preprocessing import StandardScaler\n",
    "from sklearn.model_selection import train_test_split\n",
    "from sklearn.impute import SimpleImputer\n",
    "\n",
    "# Assuming X is your feature DataFrame and y is your label DataFrame (or array)\n",
    "X = features  # Features DataFrame\n",
    "y = labels    # Label DataFrame or Series\n",
    "\n",
    "\n",
    "# Split the data into training and test sets\n",
    "X_train, X_test, y_train, y_test = train_test_split(X, y, test_size=0.2, random_state=42)\n",
    "\n",
    "# Initialize the SimpleImputer and StandardScaler\n",
    "imputer = SimpleImputer(strategy='mean')\n",
    "scaler = StandardScaler()\n",
    "label_scaler = StandardScaler()\n",
    "\n",
    "# Fit the imputer on the training data and transform it\n",
    "X_train_imputed = imputer.fit_transform(X_train)\n",
    "X_test_imputed = imputer.transform(X_test)\n",
    "\n",
    "# Fit the scaler on the imputed training data and transform it\n",
    "X_train_scaled = scaler.fit_transform(X_train_imputed)\n",
    "X_test_scaled = scaler.transform(X_test_imputed)\n",
    "\n",
    "# Optionally, convert back to DataFrame for readability\n",
    "X_train_scaled = pd.DataFrame(X_train_scaled, columns=X_train.columns)\n",
    "X_test_scaled = pd.DataFrame(X_test_scaled, columns=X_test.columns)\n",
    "\n",
    "\n",
    "# Fit and transform the label scaler on the training labels, and only transform the test labels (if needed)\n",
    "y_train = label_scaler.fit_transform(y_train.values.reshape(-1, 1))  # Reshaping to make it 2D\n",
    "y_test = label_scaler.transform(y_test.values.reshape(-1, 1))"
   ]
  },
  {
   "cell_type": "markdown",
   "metadata": {},
   "source": [
    "### model"
   ]
  },
  {
   "cell_type": "code",
   "execution_count": 278,
   "metadata": {},
   "outputs": [
    {
     "name": "stdout",
     "output_type": "stream",
     "text": [
      "Mean Squared Error: 0.7997082819852053\n"
     ]
    }
   ],
   "source": [
    "from sklearn.linear_model import LinearRegression, Ridge, Lasso, ElasticNet\n",
    "from sklearn.model_selection import train_test_split\n",
    "from sklearn.metrics import r2_score\n",
    "from sklearn.ensemble import RandomForestRegressor, GradientBoostingRegressor, AdaBoostRegressor\n",
    "\n",
    "# Initialize and train models\n",
    "# model = RandomForestRegressor()\n",
    "\n",
    "model = RandomForestRegressor(\n",
    "    bootstrap=True,\n",
    "    criterion='absolute_error',\n",
    "    max_depth=None,\n",
    "    max_features='log2',\n",
    "    max_samples=0.5,\n",
    "    min_samples_leaf=1,\n",
    "    min_samples_split=10,\n",
    "    n_estimators=50,\n",
    "    random_state=15  # Optional: Set a seed for reproducibility\n",
    ")\n",
    "model.fit(X_train_scaled, y_train)\n",
    "predictions = model.predict(X_test_scaled)\n",
    "mse = r2_score(y_test, predictions)\n",
    "print(f\"Mean Squared Error: {mse}\")\n"
   ]
  },
  {
   "cell_type": "markdown",
   "metadata": {},
   "source": [
    "### Inference\n",
    "Run you trained model on `test` split\n"
   ]
  },
  {
   "cell_type": "code",
   "execution_count": 279,
   "metadata": {
    "execution": {
     "iopub.execute_input": "2023-08-24T10:30:56.104165Z",
     "iopub.status.busy": "2023-08-24T10:30:56.103774Z",
     "iopub.status.idle": "2023-08-24T10:30:56.120807Z",
     "shell.execute_reply": "2023-08-24T10:30:56.119613Z",
     "shell.execute_reply.started": "2023-08-24T10:30:56.104136Z"
    }
   },
   "outputs": [
    {
     "data": {
      "text/html": [
       "<div>\n",
       "<style scoped>\n",
       "    .dataframe tbody tr th:only-of-type {\n",
       "        vertical-align: middle;\n",
       "    }\n",
       "\n",
       "    .dataframe tbody tr th {\n",
       "        vertical-align: top;\n",
       "    }\n",
       "\n",
       "    .dataframe thead th {\n",
       "        text-align: right;\n",
       "    }\n",
       "</style>\n",
       "<table border=\"1\" class=\"dataframe\">\n",
       "  <thead>\n",
       "    <tr style=\"text-align: right;\">\n",
       "      <th></th>\n",
       "      <th>Assignment: In-class participation</th>\n",
       "      <th>Assignment: Assignment 1</th>\n",
       "      <th>Assignment: Midterm</th>\n",
       "    </tr>\n",
       "  </thead>\n",
       "  <tbody>\n",
       "    <tr>\n",
       "      <th>0</th>\n",
       "      <td>3</td>\n",
       "      <td>100.0</td>\n",
       "      <td>14</td>\n",
       "    </tr>\n",
       "    <tr>\n",
       "      <th>1</th>\n",
       "      <td>-</td>\n",
       "      <td>100.0</td>\n",
       "      <td>18</td>\n",
       "    </tr>\n",
       "    <tr>\n",
       "      <th>2</th>\n",
       "      <td>1</td>\n",
       "      <td>100.0</td>\n",
       "      <td>16</td>\n",
       "    </tr>\n",
       "    <tr>\n",
       "      <th>3</th>\n",
       "      <td>1</td>\n",
       "      <td>100.0</td>\n",
       "      <td>16</td>\n",
       "    </tr>\n",
       "    <tr>\n",
       "      <th>4</th>\n",
       "      <td>-</td>\n",
       "      <td>61.0</td>\n",
       "      <td>20</td>\n",
       "    </tr>\n",
       "  </tbody>\n",
       "</table>\n",
       "</div>"
      ],
      "text/plain": [
       "  Assignment: In-class participation  Assignment: Assignment 1  \\\n",
       "0                                  3                     100.0   \n",
       "1                                  -                     100.0   \n",
       "2                                  1                     100.0   \n",
       "3                                  1                     100.0   \n",
       "4                                  -                      61.0   \n",
       "\n",
       "   Assignment: Midterm  \n",
       "0                   14  \n",
       "1                   18  \n",
       "2                   16  \n",
       "3                   16  \n",
       "4                   20  "
      ]
     },
     "execution_count": 279,
     "metadata": {},
     "output_type": "execute_result"
    }
   ],
   "source": [
    "# test_data = pd.read_csv('/kaggle/input/pmldl-week-1-test-competition/test.csv')\n",
    "test_data = pd.read_csv('/home/rizo/inno/dl/test.csv',sep=';')\n",
    "test_data.head()\n"
   ]
  },
  {
   "cell_type": "code",
   "execution_count": 280,
   "metadata": {},
   "outputs": [],
   "source": [
    "# Write your code here - don't forget to apply the same transformation on test data\n",
    "\n",
    "# remove '-'\n",
    "test_data = test_data.replace(['', '-', ' '], np.NaN)\n",
    "\n",
    "test_data['Assignment: In-class participation'] = pd.to_numeric(test_data['Assignment: In-class participation'],errors = 'coerce')\n",
    "test_data['Assignment: Assignment 1'] = pd.to_numeric(test_data['Assignment: Assignment 1'],errors = 'coerce')\n",
    "\n",
    "\n",
    "# Fit the imputer on the training data and transform it\n",
    "test_data = imputer.transform(test_data)\n",
    "\n",
    "# Fit the scaler on the imputed training data and transform it\n",
    "test_data = scaler.transform(test_data)\n",
    "\n",
    "# Convert back to DataFrame for readability\n",
    "test_data = pd.DataFrame(test_data, columns=X_test.columns)\n",
    "\n",
    "preproc_test = test_data\n",
    "\n",
    "predictions = model.predict(preproc_test.values)"
   ]
  },
  {
   "cell_type": "markdown",
   "metadata": {},
   "source": [
    "### Save model predictions\n",
    "Save model predictions to `submission.csv` and submit to competition"
   ]
  },
  {
   "cell_type": "code",
   "execution_count": 281,
   "metadata": {},
   "outputs": [
    {
     "data": {
      "text/html": [
       "<div>\n",
       "<style scoped>\n",
       "    .dataframe tbody tr th:only-of-type {\n",
       "        vertical-align: middle;\n",
       "    }\n",
       "\n",
       "    .dataframe tbody tr th {\n",
       "        vertical-align: top;\n",
       "    }\n",
       "\n",
       "    .dataframe thead th {\n",
       "        text-align: right;\n",
       "    }\n",
       "</style>\n",
       "<table border=\"1\" class=\"dataframe\">\n",
       "  <thead>\n",
       "    <tr style=\"text-align: right;\">\n",
       "      <th></th>\n",
       "      <th>ID</th>\n",
       "      <th>Course Grade (Real)</th>\n",
       "    </tr>\n",
       "  </thead>\n",
       "  <tbody>\n",
       "    <tr>\n",
       "      <th>0</th>\n",
       "      <td>0</td>\n",
       "      <td>76.17</td>\n",
       "    </tr>\n",
       "    <tr>\n",
       "      <th>1</th>\n",
       "      <td>1</td>\n",
       "      <td>78.69</td>\n",
       "    </tr>\n",
       "    <tr>\n",
       "      <th>2</th>\n",
       "      <td>2</td>\n",
       "      <td>78.72</td>\n",
       "    </tr>\n",
       "  </tbody>\n",
       "</table>\n",
       "</div>"
      ],
      "text/plain": [
       "   ID  Course Grade (Real)\n",
       "0   0                76.17\n",
       "1   1                78.69\n",
       "2   2                78.72"
      ]
     },
     "execution_count": 281,
     "metadata": {},
     "output_type": "execute_result"
    }
   ],
   "source": [
    "# Reshape predictions to be a 2D array with one column\n",
    "predictions = predictions.reshape(-1, 1)\n",
    "\n",
    "preds = pd.DataFrame(label_scaler.inverse_transform(predictions), columns=['Course Grade (Real)'])\n",
    "\n",
    "# Insert ID column for Kaggle\n",
    "preds.insert(0, 'ID', range(0, len(preds)))\n",
    "\n",
    "preds.head(3)"
   ]
  },
  {
   "cell_type": "code",
   "execution_count": 282,
   "metadata": {},
   "outputs": [],
   "source": [
    "preds.to_csv('submission.csv', index=False)"
   ]
  }
 ],
 "metadata": {
  "kernelspec": {
   "display_name": "dl-nma",
   "language": "python",
   "name": "dl-nma"
  },
  "language_info": {
   "codemirror_mode": {
    "name": "ipython",
    "version": 3
   },
   "file_extension": ".py",
   "mimetype": "text/x-python",
   "name": "python",
   "nbconvert_exporter": "python",
   "pygments_lexer": "ipython3",
   "version": "3.11.4"
  }
 },
 "nbformat": 4,
 "nbformat_minor": 4
}

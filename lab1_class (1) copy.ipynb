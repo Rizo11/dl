{
 "cells": [
  {
   "cell_type": "markdown",
   "metadata": {},
   "source": [
    "# Practical machine learning and deep learning. Lab 1\n",
    "## Introduction \n",
    "\n",
    "Labs will be conducted with use of [Kaggle](https://www.kaggle.com). \n",
    "\n",
    "The aim of today's lab is to find out how the next labs will be held and recap ML workflow.\n",
    "\n",
    "You're asked to predict final grades of students by treir attendance, midterm and assignments scores. The data are real anonymized grades from one of the Innopolis course, but also contain some fictional 'students'.  \n",
    "\n",
    "## [Сompetition](https://www.kaggle.com/t/6c8eb8f31b6b47d5ac647816b21b321a)\n",
    "The competition costs 2 points max. To earn them, you have to beat a baseline score. However, if the trained model predicts some results under the baseline, you're guaranteed one point. This rule will work for the further labs. The baseline score can be found on Kaggle Leaderboard page.\n",
    "\n",
    "Evaluation metric for this competition is R^2."
   ]
  },
  {
   "cell_type": "markdown",
   "metadata": {},
   "source": [
    "## Task\n",
    "Today's task is to make a submission to a [competition](https://www.kaggle.com/t/6c8eb8f31b6b47d5ac647816b21b321a). \n",
    "\n",
    "To do so you will need: \n",
    "- Obtain data from competition \n",
    "- Create a Jupyter notebook which will produce a file for submission\n",
    "- Submit it to the competition"
   ]
  },
  {
   "cell_type": "markdown",
   "metadata": {},
   "source": [
    "### Data\n",
    "\n",
    "Data contains `train` and `test` splits. Your goal is to train any appropriate ML model on `train` split and run inference on `test` split."
   ]
  },
  {
   "cell_type": "code",
   "execution_count": 150,
   "metadata": {
    "_cell_guid": "b1076dfc-b9ad-4769-8c92-a6c4dae69d19",
    "_uuid": "8f2839f25d086af736a60e9eeb907d3b93b6e0e5",
    "execution": {
     "iopub.execute_input": "2023-08-24T10:30:50.197503Z",
     "iopub.status.busy": "2023-08-24T10:30:50.197169Z",
     "iopub.status.idle": "2023-08-24T10:30:50.206615Z",
     "shell.execute_reply": "2023-08-24T10:30:50.205233Z",
     "shell.execute_reply.started": "2023-08-24T10:30:50.197480Z"
    }
   },
   "outputs": [],
   "source": [
    "import pandas as pd\n",
    "import numpy as np\n",
    "import sklearn\n",
    "import warnings\n",
    "warnings.filterwarnings('ignore')"
   ]
  },
  {
   "cell_type": "code",
   "execution_count": 151,
   "metadata": {
    "execution": {
     "iopub.execute_input": "2023-08-24T10:30:50.213378Z",
     "iopub.status.busy": "2023-08-24T10:30:50.213069Z",
     "iopub.status.idle": "2023-08-24T10:30:50.235074Z",
     "shell.execute_reply": "2023-08-24T10:30:50.233716Z",
     "shell.execute_reply.started": "2023-08-24T10:30:50.213330Z"
    }
   },
   "outputs": [
    {
     "data": {
      "text/html": [
       "<div>\n",
       "<style scoped>\n",
       "    .dataframe tbody tr th:only-of-type {\n",
       "        vertical-align: middle;\n",
       "    }\n",
       "\n",
       "    .dataframe tbody tr th {\n",
       "        vertical-align: top;\n",
       "    }\n",
       "\n",
       "    .dataframe thead th {\n",
       "        text-align: right;\n",
       "    }\n",
       "</style>\n",
       "<table border=\"1\" class=\"dataframe\">\n",
       "  <thead>\n",
       "    <tr style=\"text-align: right;\">\n",
       "      <th></th>\n",
       "      <th>Course Grade (Real)</th>\n",
       "      <th>Assignment: In-class participation</th>\n",
       "      <th>Assignment: Assignment 1</th>\n",
       "      <th>Assignment: Midterm</th>\n",
       "    </tr>\n",
       "  </thead>\n",
       "  <tbody>\n",
       "    <tr>\n",
       "      <th>0</th>\n",
       "      <td>100</td>\n",
       "      <td>5</td>\n",
       "      <td>100</td>\n",
       "      <td>26</td>\n",
       "    </tr>\n",
       "    <tr>\n",
       "      <th>1</th>\n",
       "      <td>73</td>\n",
       "      <td>1.25</td>\n",
       "      <td>98</td>\n",
       "      <td>12</td>\n",
       "    </tr>\n",
       "    <tr>\n",
       "      <th>2</th>\n",
       "      <td>78</td>\n",
       "      <td>-</td>\n",
       "      <td>96</td>\n",
       "      <td>14</td>\n",
       "    </tr>\n",
       "    <tr>\n",
       "      <th>3</th>\n",
       "      <td>100</td>\n",
       "      <td>0</td>\n",
       "      <td>100</td>\n",
       "      <td>20</td>\n",
       "    </tr>\n",
       "    <tr>\n",
       "      <th>4</th>\n",
       "      <td>70</td>\n",
       "      <td>0</td>\n",
       "      <td>84</td>\n",
       "      <td>26</td>\n",
       "    </tr>\n",
       "  </tbody>\n",
       "</table>\n",
       "</div>"
      ],
      "text/plain": [
       "   Course Grade (Real) Assignment: In-class participation  \\\n",
       "0                  100                                  5   \n",
       "1                   73                               1.25   \n",
       "2                   78                                  -   \n",
       "3                  100                                  0   \n",
       "4                   70                                  0   \n",
       "\n",
       "  Assignment: Assignment 1  Assignment: Midterm  \n",
       "0                      100                   26  \n",
       "1                       98                   12  \n",
       "2                       96                   14  \n",
       "3                      100                   20  \n",
       "4                       84                   26  "
      ]
     },
     "execution_count": 151,
     "metadata": {},
     "output_type": "execute_result"
    }
   ],
   "source": [
    "# train_data = pd.read_csv('/kaggle/input/pmldl-week-1-test-competition/train.csv',sep=';')\n",
    "train_data = pd.read_csv('/home/rizo/inno/dl/train.csv',sep=';')\n",
    "\n",
    "train_data.head()"
   ]
  },
  {
   "cell_type": "markdown",
   "metadata": {},
   "source": [
    "## Preprocessing\n",
    "\n",
    "Please note that all the features have their own scales. Also some of them have missing values. Thus, you should apply Scaler and Imputer on the features and Scaler on labels."
   ]
  },
  {
   "cell_type": "code",
   "execution_count": 152,
   "metadata": {},
   "outputs": [],
   "source": [
    "# remove '-'\n",
    "train_data = train_data.replace(['', '-', ' '], np.NaN)"
   ]
  },
  {
   "cell_type": "code",
   "execution_count": 153,
   "metadata": {},
   "outputs": [],
   "source": [
    "train_data['Assignment: In-class participation'] = pd.to_numeric(train_data['Assignment: In-class participation'],errors = 'coerce')\n",
    "train_data['Assignment: Assignment 1'] = pd.to_numeric(train_data['Assignment: Assignment 1'],errors = 'coerce')\n"
   ]
  },
  {
   "cell_type": "code",
   "execution_count": 154,
   "metadata": {},
   "outputs": [],
   "source": [
    "label = train_data[['Course Grade (Real)']]\n",
    "\n",
    "# Create another DataFrame for the rest of the columns\n",
    "features = train_data.drop(columns=['Course Grade (Real)'])"
   ]
  },
  {
   "cell_type": "code",
   "execution_count": 155,
   "metadata": {},
   "outputs": [],
   "source": [
    "from sklearn.impute import SimpleImputer\n",
    "\n",
    "# Create a SimpleImputer instance with the desired strategy\n",
    "imputer = SimpleImputer(missing_values=np.nan, strategy='mean')\n",
    "\n",
    "# Fit the imputer on the train_data\n",
    "imputer.fit(features)\n",
    "\n",
    "# Transform the train_data by replacing NaN values\n",
    "features_imputed = imputer.transform(features)\n",
    "\n",
    "# convert the resulting NumPy array back to a DataFrame\n",
    "features_imputed = pd.DataFrame(features_imputed, columns=features.columns)\n"
   ]
  },
  {
   "cell_type": "code",
   "execution_count": 156,
   "metadata": {},
   "outputs": [
    {
     "data": {
      "text/html": [
       "<div>\n",
       "<style scoped>\n",
       "    .dataframe tbody tr th:only-of-type {\n",
       "        vertical-align: middle;\n",
       "    }\n",
       "\n",
       "    .dataframe tbody tr th {\n",
       "        vertical-align: top;\n",
       "    }\n",
       "\n",
       "    .dataframe thead th {\n",
       "        text-align: right;\n",
       "    }\n",
       "</style>\n",
       "<table border=\"1\" class=\"dataframe\">\n",
       "  <thead>\n",
       "    <tr style=\"text-align: right;\">\n",
       "      <th></th>\n",
       "      <th>Assignment: In-class participation</th>\n",
       "      <th>Assignment: Assignment 1</th>\n",
       "      <th>Assignment: Midterm</th>\n",
       "    </tr>\n",
       "  </thead>\n",
       "  <tbody>\n",
       "    <tr>\n",
       "      <th>0</th>\n",
       "      <td>1.000000</td>\n",
       "      <td>1.00</td>\n",
       "      <td>0.866667</td>\n",
       "    </tr>\n",
       "    <tr>\n",
       "      <th>1</th>\n",
       "      <td>0.250000</td>\n",
       "      <td>0.98</td>\n",
       "      <td>0.400000</td>\n",
       "    </tr>\n",
       "    <tr>\n",
       "      <th>2</th>\n",
       "      <td>0.390398</td>\n",
       "      <td>0.96</td>\n",
       "      <td>0.466667</td>\n",
       "    </tr>\n",
       "    <tr>\n",
       "      <th>3</th>\n",
       "      <td>0.000000</td>\n",
       "      <td>1.00</td>\n",
       "      <td>0.666667</td>\n",
       "    </tr>\n",
       "    <tr>\n",
       "      <th>4</th>\n",
       "      <td>0.000000</td>\n",
       "      <td>0.84</td>\n",
       "      <td>0.866667</td>\n",
       "    </tr>\n",
       "    <tr>\n",
       "      <th>...</th>\n",
       "      <td>...</td>\n",
       "      <td>...</td>\n",
       "      <td>...</td>\n",
       "    </tr>\n",
       "    <tr>\n",
       "      <th>239</th>\n",
       "      <td>0.600000</td>\n",
       "      <td>0.85</td>\n",
       "      <td>0.466667</td>\n",
       "    </tr>\n",
       "    <tr>\n",
       "      <th>240</th>\n",
       "      <td>0.000000</td>\n",
       "      <td>0.00</td>\n",
       "      <td>0.000000</td>\n",
       "    </tr>\n",
       "    <tr>\n",
       "      <th>241</th>\n",
       "      <td>0.084000</td>\n",
       "      <td>0.93</td>\n",
       "      <td>0.933333</td>\n",
       "    </tr>\n",
       "    <tr>\n",
       "      <th>242</th>\n",
       "      <td>0.600000</td>\n",
       "      <td>0.98</td>\n",
       "      <td>0.600000</td>\n",
       "    </tr>\n",
       "    <tr>\n",
       "      <th>243</th>\n",
       "      <td>1.000000</td>\n",
       "      <td>0.92</td>\n",
       "      <td>0.533333</td>\n",
       "    </tr>\n",
       "  </tbody>\n",
       "</table>\n",
       "<p>244 rows × 3 columns</p>\n",
       "</div>"
      ],
      "text/plain": [
       "     Assignment: In-class participation  Assignment: Assignment 1  \\\n",
       "0                              1.000000                      1.00   \n",
       "1                              0.250000                      0.98   \n",
       "2                              0.390398                      0.96   \n",
       "3                              0.000000                      1.00   \n",
       "4                              0.000000                      0.84   \n",
       "..                                  ...                       ...   \n",
       "239                            0.600000                      0.85   \n",
       "240                            0.000000                      0.00   \n",
       "241                            0.084000                      0.93   \n",
       "242                            0.600000                      0.98   \n",
       "243                            1.000000                      0.92   \n",
       "\n",
       "     Assignment: Midterm  \n",
       "0               0.866667  \n",
       "1               0.400000  \n",
       "2               0.466667  \n",
       "3               0.666667  \n",
       "4               0.866667  \n",
       "..                   ...  \n",
       "239             0.466667  \n",
       "240             0.000000  \n",
       "241             0.933333  \n",
       "242             0.600000  \n",
       "243             0.533333  \n",
       "\n",
       "[244 rows x 3 columns]"
      ]
     },
     "execution_count": 156,
     "metadata": {},
     "output_type": "execute_result"
    }
   ],
   "source": [
    "from sklearn.preprocessing import MinMaxScaler, StandardScaler\n",
    "\n",
    "# Assuming 'train_data' has features and one label column 'target'\n",
    "features = features_imputed\n",
    "\n",
    "# Create a scaler instance (choose either MinMaxScaler or StandardScaler)\n",
    "scaler = MinMaxScaler()  # or StandardScaler()\n",
    "\n",
    "# Fit and transform the features\n",
    "features_normalized = scaler.fit_transform(features)\n",
    "\n",
    "# convert the normalized features back to a DataFrame\n",
    "features_normalized = pd.DataFrame(features_normalized, columns=features.columns)\n",
    "features_normalized\n"
   ]
  },
  {
   "cell_type": "markdown",
   "metadata": {},
   "source": [
    "### Model\n",
    "Implement any appropriate regression  ML model you like. Consider the number of features and data points when chose a model."
   ]
  },
  {
   "cell_type": "code",
   "execution_count": 159,
   "metadata": {},
   "outputs": [
    {
     "name": "stdout",
     "output_type": "stream",
     "text": [
      "Mean Squared Error: 0.8568805848780816\n"
     ]
    }
   ],
   "source": [
    "from sklearn.linear_model import LinearRegression, Ridge, Lasso, ElasticNet\n",
    "from sklearn.model_selection import train_test_split\n",
    "from sklearn.metrics import r2_score\n",
    "from sklearn.ensemble import RandomForestRegressor, GradientBoostingRegressor, AdaBoostRegressor\n",
    "\n",
    "\n",
    "# Split your data\n",
    "X = features_normalized\n",
    "y = label\n",
    "X_train, X_test, y_train, y_test = train_test_split(X, y, test_size=0.2, random_state=15)\n",
    "\n",
    "# Initialize and train models\n",
    "model = RandomForestRegressor()\n",
    "\n",
    "model.fit(X_train, y_train)\n",
    "predictions = model.predict(X_test)\n",
    "mse = r2_score(y_test, predictions)\n",
    "print(f\"Mean Squared Error: {mse}\")\n"
   ]
  },
  {
   "cell_type": "code",
   "execution_count": 162,
   "metadata": {},
   "outputs": [
    {
     "name": "stdout",
     "output_type": "stream",
     "text": [
      "Best R^2 score: 0.7591756368635945\n",
      "Best hyperparameters: {'bootstrap': True, 'criterion': 'absolute_error', 'max_depth': None, 'max_features': 'log2', 'max_samples': 0.5, 'min_samples_leaf': 1, 'min_samples_split': 10, 'n_estimators': 50}\n"
     ]
    }
   ],
   "source": [
    "from sklearn.model_selection import GridSearchCV\n",
    "from sklearn.ensemble import RandomForestRegressor\n",
    "\n",
    "# Define your model\n",
    "model = RandomForestRegressor()\n",
    "\n",
    "# Define the parameter grid to search\n",
    "# Define the more comprehensive parameter grid to search\n",
    "param_grid = {\n",
    "    'n_estimators': [50, 100, 200, 500],\n",
    "    'max_depth': [None, 10, 20, 30],\n",
    "    'min_samples_split': [2, 5, 10],\n",
    "    'min_samples_leaf': [1, 2, 4],\n",
    "    'max_features': ['auto', 'sqrt', 'log2'],\n",
    "    'bootstrap': [True, False],\n",
    "    'max_samples': [None, 0.5, 0.75],\n",
    "    'criterion': ['squared_error', 'absolute_error']\n",
    "}\n",
    "\n",
    "# Setup GridSearch with 5-fold cross-validation\n",
    "grid_search = GridSearchCV(model, param_grid, cv=5, scoring='r2')\n",
    "\n",
    "# Fit the grid search\n",
    "grid_search.fit(X, y)\n",
    "\n",
    "# Get the best model and parameters\n",
    "print(f\"Best R^2 score: {grid_search.best_score_}\")\n",
    "print(f\"Best hyperparameters: {grid_search.best_params_}\")\n"
   ]
  },
  {
   "cell_type": "code",
   "execution_count": 163,
   "metadata": {},
   "outputs": [
    {
     "name": "stdout",
     "output_type": "stream",
     "text": [
      "R^2 score: 0.8312623669172827\n"
     ]
    }
   ],
   "source": [
    "model = RandomForestRegressor(\n",
    "    bootstrap=True,\n",
    "    criterion='absolute_error',\n",
    "    max_depth=None,\n",
    "    max_features='log2',\n",
    "    max_samples=0.5,\n",
    "    min_samples_leaf=1,\n",
    "    min_samples_split=10,\n",
    "    n_estimators=50,\n",
    "    random_state=15  # Optional: Set a seed for reproducibility\n",
    ")\n",
    "\n",
    "# Train the model\n",
    "model.fit(X_train, y_train)\n",
    "\n",
    "# Make predictions\n",
    "y_pred = model.predict(X_test)\n",
    "\n",
    "# Evaluate the model (R^2 score)\n",
    "from sklearn.metrics import r2_score\n",
    "r2 = r2_score(y_test, y_pred)\n",
    "print(f\"R^2 score: {r2}\")"
   ]
  },
  {
   "cell_type": "markdown",
   "metadata": {},
   "source": [
    "### Inference\n",
    "Run you trained model on `test` split\n"
   ]
  },
  {
   "cell_type": "code",
   "execution_count": 164,
   "metadata": {
    "execution": {
     "iopub.execute_input": "2023-08-24T10:30:56.104165Z",
     "iopub.status.busy": "2023-08-24T10:30:56.103774Z",
     "iopub.status.idle": "2023-08-24T10:30:56.120807Z",
     "shell.execute_reply": "2023-08-24T10:30:56.119613Z",
     "shell.execute_reply.started": "2023-08-24T10:30:56.104136Z"
    }
   },
   "outputs": [
    {
     "data": {
      "text/html": [
       "<div>\n",
       "<style scoped>\n",
       "    .dataframe tbody tr th:only-of-type {\n",
       "        vertical-align: middle;\n",
       "    }\n",
       "\n",
       "    .dataframe tbody tr th {\n",
       "        vertical-align: top;\n",
       "    }\n",
       "\n",
       "    .dataframe thead th {\n",
       "        text-align: right;\n",
       "    }\n",
       "</style>\n",
       "<table border=\"1\" class=\"dataframe\">\n",
       "  <thead>\n",
       "    <tr style=\"text-align: right;\">\n",
       "      <th></th>\n",
       "      <th>Assignment: In-class participation</th>\n",
       "      <th>Assignment: Assignment 1</th>\n",
       "      <th>Assignment: Midterm</th>\n",
       "    </tr>\n",
       "  </thead>\n",
       "  <tbody>\n",
       "    <tr>\n",
       "      <th>0</th>\n",
       "      <td>3</td>\n",
       "      <td>100.0</td>\n",
       "      <td>14</td>\n",
       "    </tr>\n",
       "    <tr>\n",
       "      <th>1</th>\n",
       "      <td>-</td>\n",
       "      <td>100.0</td>\n",
       "      <td>18</td>\n",
       "    </tr>\n",
       "    <tr>\n",
       "      <th>2</th>\n",
       "      <td>1</td>\n",
       "      <td>100.0</td>\n",
       "      <td>16</td>\n",
       "    </tr>\n",
       "    <tr>\n",
       "      <th>3</th>\n",
       "      <td>1</td>\n",
       "      <td>100.0</td>\n",
       "      <td>16</td>\n",
       "    </tr>\n",
       "    <tr>\n",
       "      <th>4</th>\n",
       "      <td>-</td>\n",
       "      <td>61.0</td>\n",
       "      <td>20</td>\n",
       "    </tr>\n",
       "  </tbody>\n",
       "</table>\n",
       "</div>"
      ],
      "text/plain": [
       "  Assignment: In-class participation  Assignment: Assignment 1  \\\n",
       "0                                  3                     100.0   \n",
       "1                                  -                     100.0   \n",
       "2                                  1                     100.0   \n",
       "3                                  1                     100.0   \n",
       "4                                  -                      61.0   \n",
       "\n",
       "   Assignment: Midterm  \n",
       "0                   14  \n",
       "1                   18  \n",
       "2                   16  \n",
       "3                   16  \n",
       "4                   20  "
      ]
     },
     "execution_count": 164,
     "metadata": {},
     "output_type": "execute_result"
    }
   ],
   "source": [
    "# test_data = pd.read_csv('/kaggle/input/pmldl-week-1-test-competition/test.csv')\n",
    "test_data = pd.read_csv('/home/rizo/inno/dl/test.csv',sep=';')\n",
    "test_data.head()\n"
   ]
  },
  {
   "cell_type": "code",
   "execution_count": 165,
   "metadata": {},
   "outputs": [],
   "source": [
    "# Write your code here - don't forget to apply the same transformation on test data\n",
    "\n",
    "# remove '-'\n",
    "test_data = test_data.replace(['', '-', ' '], np.NaN)\n",
    "\n",
    "test_data['Assignment: In-class participation'] = pd.to_numeric(test_data['Assignment: In-class participation'],errors = 'coerce')\n",
    "test_data['Assignment: Assignment 1'] = pd.to_numeric(test_data['Assignment: Assignment 1'],errors = 'coerce')\n",
    "\n",
    "# Create a SimpleImputer instance with the desired strategy\n",
    "imputer = SimpleImputer(missing_values=np.nan, strategy='mean')\n",
    "\n",
    "# Fit the imputer on the test_data\n",
    "imputer.fit(test_data)\n",
    "\n",
    "# Transform the test_data by replacing NaN values\n",
    "test_data_imputed = imputer.transform(test_data)\n",
    "\n",
    "# convert the resulting NumPy array back to a DataFrame\n",
    "test_data_imputed = pd.DataFrame(test_data_imputed, columns=test_data.columns)\n",
    "\n",
    "# Create a scaler instance (choose either MinMaxScaler or StandardScaler)\n",
    "scaler = MinMaxScaler()  # or StandardScaler()\n",
    "\n",
    "# Fit and transform the features\n",
    "features_normalized = scaler.fit_transform(test_data_imputed)\n",
    "\n",
    "# convert the normalized features back to a DataFrame\n",
    "features_normalized = pd.DataFrame(features_normalized, columns=features.columns)\n",
    "\n",
    "preproc_test = features_normalized\n",
    "\n",
    "predictions = model.predict(preproc_test.values)"
   ]
  },
  {
   "cell_type": "markdown",
   "metadata": {},
   "source": [
    "### Save model predictions\n",
    "Save model predictions to `submission.csv` and submit to competition"
   ]
  },
  {
   "cell_type": "code",
   "execution_count": 166,
   "metadata": {},
   "outputs": [
    {
     "data": {
      "text/html": [
       "<div>\n",
       "<style scoped>\n",
       "    .dataframe tbody tr th:only-of-type {\n",
       "        vertical-align: middle;\n",
       "    }\n",
       "\n",
       "    .dataframe tbody tr th {\n",
       "        vertical-align: top;\n",
       "    }\n",
       "\n",
       "    .dataframe thead th {\n",
       "        text-align: right;\n",
       "    }\n",
       "</style>\n",
       "<table border=\"1\" class=\"dataframe\">\n",
       "  <thead>\n",
       "    <tr style=\"text-align: right;\">\n",
       "      <th></th>\n",
       "      <th>ID</th>\n",
       "      <th>Course Grade (Real)</th>\n",
       "    </tr>\n",
       "  </thead>\n",
       "  <tbody>\n",
       "    <tr>\n",
       "      <th>0</th>\n",
       "      <td>0</td>\n",
       "      <td>75.21</td>\n",
       "    </tr>\n",
       "    <tr>\n",
       "      <th>1</th>\n",
       "      <td>1</td>\n",
       "      <td>82.64</td>\n",
       "    </tr>\n",
       "    <tr>\n",
       "      <th>2</th>\n",
       "      <td>2</td>\n",
       "      <td>74.83</td>\n",
       "    </tr>\n",
       "  </tbody>\n",
       "</table>\n",
       "</div>"
      ],
      "text/plain": [
       "   ID  Course Grade (Real)\n",
       "0   0                75.21\n",
       "1   1                82.64\n",
       "2   2                74.83"
      ]
     },
     "execution_count": 166,
     "metadata": {},
     "output_type": "execute_result"
    }
   ],
   "source": [
    "preds = pd.DataFrame(predictions, columns=['Course Grade (Real)'])\n",
    "\n",
    "# Insert ID column for Kaggle\n",
    "preds.insert(0, 'ID', range(0, len(preds)))\n",
    "\n",
    "preds.head(3)"
   ]
  },
  {
   "cell_type": "code",
   "execution_count": 167,
   "metadata": {},
   "outputs": [],
   "source": [
    "preds.to_csv('submission.csv', index=False)"
   ]
  },
  {
   "cell_type": "code",
   "execution_count": null,
   "metadata": {},
   "outputs": [],
   "source": []
  }
 ],
 "metadata": {
  "kernelspec": {
   "display_name": "dl-nma",
   "language": "python",
   "name": "dl-nma"
  },
  "language_info": {
   "codemirror_mode": {
    "name": "ipython",
    "version": 3
   },
   "file_extension": ".py",
   "mimetype": "text/x-python",
   "name": "python",
   "nbconvert_exporter": "python",
   "pygments_lexer": "ipython3",
   "version": "3.11.4"
  }
 },
 "nbformat": 4,
 "nbformat_minor": 4
}
